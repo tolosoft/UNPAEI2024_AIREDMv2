{
 "cells": [
  {
   "cell_type": "code",
   "execution_count": 398,
   "id": "e35be00b-3e76-4a3e-aa38-f8ab0440a5d4",
   "metadata": {},
   "outputs": [],
   "source": [
    "import pandas as pd\n",
    "import numpy as np\n",
    "#\n",
    "import faiss\n",
    "import pyterrier as pt\n",
    "import timeit\n",
    "import matplotlib.pyplot as plt"
   ]
  },
  {
   "cell_type": "code",
   "execution_count": 399,
   "id": "c3d13454-ab7e-4080-81c2-8754d7a72338",
   "metadata": {},
   "outputs": [],
   "source": [
    "if not pt.started():\n",
    "    pt.init()"
   ]
  },
  {
   "cell_type": "code",
   "execution_count": 400,
   "id": "d489c49e-4d90-4a23-8614-7c5a4d423379",
   "metadata": {},
   "outputs": [],
   "source": [
    "# Intersección\n",
    "def list_intersection(l1, l2):\n",
    "    s1 = set(l1.tolist()[0])\n",
    "    s2 = set(l2.tolist()[0])\n",
    "    s3 = s1.intersection(s2)\n",
    "    return len(s3) / len(s1), s3"
   ]
  },
  {
   "cell_type": "code",
   "execution_count": 401,
   "id": "b3c3ae54-c125-4b30-9c76-e4656de5193b",
   "metadata": {},
   "outputs": [],
   "source": [
    "# Calcula similitud por coseno\n",
    "def cosine_sim(a, b):\n",
    "    dot_product = np.dot(a, b)\n",
    "    norm_a = np.linalg.norm(a)\n",
    "    norm_b = np.linalg.norm(b)\n",
    "    return dot_product / (norm_a * norm_b)"
   ]
  },
  {
   "cell_type": "markdown",
   "id": "4fb974c7-099b-4d94-9087-223a5a8ec738",
   "metadata": {},
   "source": [
    "---\n",
    "### MAIN\n",
    "---"
   ]
  },
  {
   "cell_type": "code",
   "execution_count": 402,
   "id": "879e03f4-1dbe-4da8-af59-47e388f71936",
   "metadata": {},
   "outputs": [
    {
     "name": "stdout",
     "output_type": "stream",
     "text": [
      "Corpus Vaswani: ['/home/jovyan/.pyterrier/corpora/vaswani/corpus/doc-text.trec'] \n"
     ]
    }
   ],
   "source": [
    "dataset = pt.get_dataset(\"vaswani\")\n",
    "print(\"Corpus Vaswani: %s \" % dataset.get_corpus())"
   ]
  },
  {
   "cell_type": "code",
   "execution_count": 403,
   "id": "3f461fee-73ad-4696-9dbd-424c33517bbc",
   "metadata": {},
   "outputs": [
    {
     "data": {
      "text/plain": [
       "(11429, 2)"
      ]
     },
     "execution_count": 403,
     "metadata": {},
     "output_type": "execute_result"
    }
   ],
   "source": [
    "documents = pd.DataFrame(dataset.get_corpus_iter())\n",
    "documents.shape"
   ]
  },
  {
   "cell_type": "code",
   "execution_count": 404,
   "id": "f5c707a9-1d4a-48b3-b5b7-e49811a12aa8",
   "metadata": {},
   "outputs": [
    {
     "data": {
      "text/html": [
       "<div>\n",
       "<style scoped>\n",
       "    .dataframe tbody tr th:only-of-type {\n",
       "        vertical-align: middle;\n",
       "    }\n",
       "\n",
       "    .dataframe tbody tr th {\n",
       "        vertical-align: top;\n",
       "    }\n",
       "\n",
       "    .dataframe thead th {\n",
       "        text-align: right;\n",
       "    }\n",
       "</style>\n",
       "<table border=\"1\" class=\"dataframe\">\n",
       "  <thead>\n",
       "    <tr style=\"text-align: right;\">\n",
       "      <th></th>\n",
       "      <th>docno</th>\n",
       "      <th>text</th>\n",
       "    </tr>\n",
       "  </thead>\n",
       "  <tbody>\n",
       "    <tr>\n",
       "      <th>0</th>\n",
       "      <td>1</td>\n",
       "      <td>compact memories have flexible capacities  a d...</td>\n",
       "    </tr>\n",
       "    <tr>\n",
       "      <th>1</th>\n",
       "      <td>2</td>\n",
       "      <td>an electronic analogue computer for solving sy...</td>\n",
       "    </tr>\n",
       "    <tr>\n",
       "      <th>2</th>\n",
       "      <td>3</td>\n",
       "      <td>electronic coordinate transformer  circuit det...</td>\n",
       "    </tr>\n",
       "    <tr>\n",
       "      <th>3</th>\n",
       "      <td>4</td>\n",
       "      <td>the british computer society  report of a conf...</td>\n",
       "    </tr>\n",
       "    <tr>\n",
       "      <th>4</th>\n",
       "      <td>5</td>\n",
       "      <td>millimicrosecond digital computer logic  a sys...</td>\n",
       "    </tr>\n",
       "  </tbody>\n",
       "</table>\n",
       "</div>"
      ],
      "text/plain": [
       "  docno                                               text\n",
       "0     1  compact memories have flexible capacities  a d...\n",
       "1     2  an electronic analogue computer for solving sy...\n",
       "2     3  electronic coordinate transformer  circuit det...\n",
       "3     4  the british computer society  report of a conf...\n",
       "4     5  millimicrosecond digital computer logic  a sys..."
      ]
     },
     "execution_count": 404,
     "metadata": {},
     "output_type": "execute_result"
    }
   ],
   "source": [
    "documents.head()"
   ]
  },
  {
   "cell_type": "code",
   "execution_count": 405,
   "id": "3e39a840-d803-4cb6-809c-cdb5aa765734",
   "metadata": {},
   "outputs": [],
   "source": [
    "# Calcular embeddings de los documentos\n",
    "from sentence_transformers import SentenceTransformer, util"
   ]
  },
  {
   "cell_type": "code",
   "execution_count": 406,
   "id": "42ddf59d-940d-4f9d-bdb2-ff66c857466d",
   "metadata": {},
   "outputs": [],
   "source": [
    "model = SentenceTransformer('sentence-transformers/distiluse-base-multilingual-cased-v2')"
   ]
  },
  {
   "cell_type": "code",
   "execution_count": 407,
   "id": "e193f734-7d91-41d7-9b10-4865ce0f9a03",
   "metadata": {},
   "outputs": [],
   "source": [
    "doc_text = list(documents['text'].head(10))\n",
    "doc_embeddings = model.encode(doc_text, convert_to_tensor=True)"
   ]
  },
  {
   "cell_type": "code",
   "execution_count": 408,
   "id": "2642e151-5879-49a9-a76e-1845f78ea959",
   "metadata": {},
   "outputs": [
    {
     "name": "stdout",
     "output_type": "stream",
     "text": [
      "torch.Size([10, 512])\n"
     ]
    }
   ],
   "source": [
    "print (doc_embeddings.shape)"
   ]
  },
  {
   "cell_type": "code",
   "execution_count": 409,
   "id": "0427bbe1-349d-4e22-936f-3327a285dc7c",
   "metadata": {},
   "outputs": [],
   "source": [
    "#doc_embeddings"
   ]
  },
  {
   "cell_type": "code",
   "execution_count": 410,
   "id": "30f11a48-e001-450f-8d64-0b21f1a439d1",
   "metadata": {},
   "outputs": [],
   "source": [
    "query_text = [\"computer electronic\"]\n",
    "query_embeddings = model.encode(query_text, convert_to_tensor=True)"
   ]
  },
  {
   "cell_type": "code",
   "execution_count": 411,
   "id": "58361f45-e8f9-4500-be02-ada57751b146",
   "metadata": {},
   "outputs": [],
   "source": [
    "#query_embeddings"
   ]
  },
  {
   "cell_type": "code",
   "execution_count": 412,
   "id": "ac01b047-a6ec-47c0-9cbd-b52b51039628",
   "metadata": {},
   "outputs": [],
   "source": [
    "qry = list(query_embeddings[0])"
   ]
  },
  {
   "cell_type": "code",
   "execution_count": 413,
   "id": "a4a528bf-0e21-4db5-8514-f2c4dd7d138c",
   "metadata": {},
   "outputs": [
    {
     "name": "stdout",
     "output_type": "stream",
     "text": [
      "Sim doc:  0  query:  0.06227272\n",
      "Sim doc:  1  query:  0.36165896\n",
      "Sim doc:  2  query:  0.25138032\n",
      "Sim doc:  3  query:  0.22139534\n",
      "Sim doc:  4  query:  0.13987084\n",
      "Sim doc:  5  query:  0.09058695\n",
      "Sim doc:  6  query:  0.21569586\n",
      "Sim doc:  7  query:  -0.014941954\n",
      "Sim doc:  8  query:  -0.0014529648\n",
      "Sim doc:  9  query:  0.12308566\n"
     ]
    }
   ],
   "source": [
    "\n",
    "for i, doc in enumerate(doc_embeddings):\n",
    "    doc = list(doc)\n",
    "    score = cosine_sim(doc, qry)\n",
    "    print (\"Sim doc: \", i, \" query: \", score)"
   ]
  },
  {
   "cell_type": "code",
   "execution_count": 414,
   "id": "315d01b3-1d0a-45e3-b9f9-0bdf6de595f1",
   "metadata": {},
   "outputs": [
    {
     "data": {
      "text/plain": [
       "['computer electronic']"
      ]
     },
     "execution_count": 414,
     "metadata": {},
     "output_type": "execute_result"
    }
   ],
   "source": [
    "query_text"
   ]
  },
  {
   "cell_type": "code",
   "execution_count": null,
   "id": "a7815755-1a04-4765-8000-eefe0d970053",
   "metadata": {},
   "outputs": [],
   "source": []
  },
  {
   "cell_type": "code",
   "execution_count": 415,
   "id": "2f971e5b-e20e-4316-9c1f-1dff489655b5",
   "metadata": {},
   "outputs": [
    {
     "data": {
      "text/plain": [
       "(11429, 512)"
      ]
     },
     "execution_count": 415,
     "metadata": {},
     "output_type": "execute_result"
    }
   ],
   "source": [
    "# Cargo los embeddings de todos los docs previamente calculados.\n",
    "vaswani_docs_embeddings = np.load(\"../data/vaswani_docs_embeddings-512.npy\")\n",
    "vaswani_docs_embeddings.shape"
   ]
  },
  {
   "cell_type": "code",
   "execution_count": 104,
   "id": "fdac2c14-45c3-444b-8ad0-6757123855e2",
   "metadata": {},
   "outputs": [
    {
     "name": "stdout",
     "output_type": "stream",
     "text": [
      "Downloading vaswani topics to /home/jovyan/.pyterrier/corpora/vaswani/query-text.trec\n"
     ]
    },
    {
     "name": "stderr",
     "output_type": "stream",
     "text": [
      "query-text.trec: 10.7kiB [00:00, 24.0MiB/s]                                                                          \n"
     ]
    },
    {
     "data": {
      "text/html": [
       "<div>\n",
       "<style scoped>\n",
       "    .dataframe tbody tr th:only-of-type {\n",
       "        vertical-align: middle;\n",
       "    }\n",
       "\n",
       "    .dataframe tbody tr th {\n",
       "        vertical-align: top;\n",
       "    }\n",
       "\n",
       "    .dataframe thead th {\n",
       "        text-align: right;\n",
       "    }\n",
       "</style>\n",
       "<table border=\"1\" class=\"dataframe\">\n",
       "  <thead>\n",
       "    <tr style=\"text-align: right;\">\n",
       "      <th></th>\n",
       "      <th>qid</th>\n",
       "      <th>query</th>\n",
       "    </tr>\n",
       "  </thead>\n",
       "  <tbody>\n",
       "    <tr>\n",
       "      <th>0</th>\n",
       "      <td>1</td>\n",
       "      <td>measurement of dielectric constant of liquids ...</td>\n",
       "    </tr>\n",
       "    <tr>\n",
       "      <th>1</th>\n",
       "      <td>2</td>\n",
       "      <td>mathematical analysis and design details of wa...</td>\n",
       "    </tr>\n",
       "    <tr>\n",
       "      <th>2</th>\n",
       "      <td>3</td>\n",
       "      <td>use of digital computers in the design of band...</td>\n",
       "    </tr>\n",
       "    <tr>\n",
       "      <th>3</th>\n",
       "      <td>4</td>\n",
       "      <td>systems of data coding for information transfer</td>\n",
       "    </tr>\n",
       "    <tr>\n",
       "      <th>4</th>\n",
       "      <td>5</td>\n",
       "      <td>use of programs in engineering testing of comp...</td>\n",
       "    </tr>\n",
       "  </tbody>\n",
       "</table>\n",
       "</div>"
      ],
      "text/plain": [
       "  qid                                              query\n",
       "0   1  measurement of dielectric constant of liquids ...\n",
       "1   2  mathematical analysis and design details of wa...\n",
       "2   3  use of digital computers in the design of band...\n",
       "3   4    systems of data coding for information transfer\n",
       "4   5  use of programs in engineering testing of comp..."
      ]
     },
     "execution_count": 104,
     "metadata": {},
     "output_type": "execute_result"
    }
   ],
   "source": [
    "# Obtengo los 'topics' asociados al corpus\n",
    "topics = dataset.get_topics()\n",
    "topics.head()"
   ]
  },
  {
   "cell_type": "code",
   "execution_count": 105,
   "id": "602dd17b-5bc6-43a3-b95e-dc94d40918b7",
   "metadata": {},
   "outputs": [
    {
     "data": {
      "text/plain": [
       "(93, 512)"
      ]
     },
     "execution_count": 105,
     "metadata": {},
     "output_type": "execute_result"
    }
   ],
   "source": [
    "# Cargo los embeddings de todos los queries previamente calculados.\n",
    "vaswani_query_embeddings = np.load(\"../data/vaswani_query_embeddings-512.npy\")\n",
    "vaswani_query_embeddings.shape"
   ]
  },
  {
   "cell_type": "markdown",
   "id": "a81311d9-7243-4952-8141-345e81929735",
   "metadata": {},
   "source": [
    "### Indexación con FAISS (diferentes índices)\n",
    "**Más sobre los tipos de índices en FAISS:** https://github.com/facebookresearch/faiss/wiki/Faiss-indexes"
   ]
  },
  {
   "cell_type": "markdown",
   "id": "e0a25c0e-d6d6-41fd-89e8-ecc0e9c86baf",
   "metadata": {},
   "source": [
    "**Prueba 1 - Flat Index**  \n",
    "Recordar: En este tipo de índice se mide la distancia L2 (euclídea) entre el vector de query \n",
    "y todos los vectores de documentos almacenados. Es simple y preciso (pero no demasiado rápido)."
   ]
  },
  {
   "cell_type": "code",
   "execution_count": 107,
   "id": "e0b068b8-4ea1-4adf-9bca-e2035f4217f4",
   "metadata": {},
   "outputs": [
    {
     "data": {
      "text/plain": [
       "0"
      ]
     },
     "execution_count": 107,
     "metadata": {},
     "output_type": "execute_result"
    }
   ],
   "source": [
    "# Inicialización\n",
    "d = 512\n",
    "indexFlat = faiss.IndexFlatL2(d)\n",
    "\n",
    "# Chequeo cantidad de docs en el índice\n",
    "indexFlat.ntotal"
   ]
  },
  {
   "cell_type": "code",
   "execution_count": 108,
   "id": "4616c228-6a95-4db5-8b60-16f0cbd2aed4",
   "metadata": {},
   "outputs": [
    {
     "name": "stdout",
     "output_type": "stream",
     "text": [
      "CPU times: user 3 µs, sys: 1 µs, total: 4 µs\n",
      "Wall time: 7.15 µs\n"
     ]
    },
    {
     "data": {
      "text/plain": [
       "11429"
      ]
     },
     "execution_count": 108,
     "metadata": {},
     "output_type": "execute_result"
    }
   ],
   "source": [
    "# Agrego los documentos al índice\n",
    "%time\n",
    "indexFlat.add(vaswani_docs_embeddings)\n",
    "indexFlat.ntotal"
   ]
  },
  {
   "cell_type": "code",
   "execution_count": 109,
   "id": "894972f1-f026-4b8d-b9a5-71e3aedf9ca4",
   "metadata": {},
   "outputs": [
    {
     "data": {
      "text/plain": [
       "True"
      ]
     },
     "execution_count": 109,
     "metadata": {},
     "output_type": "execute_result"
    }
   ],
   "source": [
    "indexFlat.is_trained"
   ]
  },
  {
   "cell_type": "code",
   "execution_count": 196,
   "id": "73a3fa99-6086-46c9-b71f-856fb31f6640",
   "metadata": {},
   "outputs": [],
   "source": [
    "# Ejemplo de recuperación\n",
    "k = 10\n",
    "query_vector = np.array([vaswani_query_embeddings[0]])"
   ]
  },
  {
   "cell_type": "code",
   "execution_count": 197,
   "id": "6378b276-1082-479d-bace-5dc5b05b18b0",
   "metadata": {},
   "outputs": [
    {
     "name": "stdout",
     "output_type": "stream",
     "text": [
      "CPU times: user 3 µs, sys: 1e+03 ns, total: 4 µs\n",
      "Wall time: 6.44 µs\n"
     ]
    }
   ],
   "source": [
    "%time\n",
    "DFlat, rsFlat = indexFlat.search(query_vector, k)  # Búsqueda"
   ]
  },
  {
   "cell_type": "code",
   "execution_count": 198,
   "id": "345d097f-9ae2-4ab3-8078-71514b3a08dc",
   "metadata": {},
   "outputs": [
    {
     "name": "stdout",
     "output_type": "stream",
     "text": [
      "[[1501 7125 1087 1896 1987 4816 7024 8275 4255 4870]]\n"
     ]
    }
   ],
   "source": [
    "print(rsFlat)"
   ]
  },
  {
   "cell_type": "code",
   "execution_count": 199,
   "id": "e346d09f-68a8-4a6c-aaad-127cc79235e5",
   "metadata": {},
   "outputs": [
    {
     "data": {
      "text/plain": [
       "array([[0.49462646, 0.76442146, 0.8314605 , 0.8432368 , 0.8441225 ,\n",
       "        0.84579706, 0.8518748 , 0.8526005 , 0.87107503, 0.8739554 ]],\n",
       "      dtype=float32)"
      ]
     },
     "execution_count": 199,
     "metadata": {},
     "output_type": "execute_result"
    }
   ],
   "source": [
    "DFlat"
   ]
  },
  {
   "cell_type": "code",
   "execution_count": 200,
   "id": "aef5ee7e-d8a1-4618-95d8-a66323a30e12",
   "metadata": {},
   "outputs": [],
   "source": [
    "faiss.write_index(indexFlat, \"vaswani_faiss_flat.ndx\")"
   ]
  },
  {
   "cell_type": "code",
   "execution_count": 180,
   "id": "739a6dc9-f079-48e4-8cc3-5893f3a6e79e",
   "metadata": {},
   "outputs": [],
   "source": []
  },
  {
   "cell_type": "markdown",
   "id": "2b74afeb-b128-4239-878a-f389949e6fec",
   "metadata": {},
   "source": [
    "**Prueba 2 - IVF Flat Index**  \n",
    "Recordar: En este tipo de índice se particiona el espacio de búsqueda (nlist) para realizar\n",
    "un ANN."
   ]
  },
  {
   "cell_type": "code",
   "execution_count": 201,
   "id": "537dc825-62c3-448b-9b77-23456ab371b0",
   "metadata": {},
   "outputs": [],
   "source": [
    "nlist = 50  # Cantidad de celdas\n",
    "base_index  = faiss.IndexFlatL2(d)\n",
    "indexIVFFlat = faiss.IndexIVFFlat(base_index, d, nlist)"
   ]
  },
  {
   "cell_type": "code",
   "execution_count": 202,
   "id": "1c8fa3b5-429f-4a35-b7b5-925bf9dcc0c2",
   "metadata": {},
   "outputs": [
    {
     "data": {
      "text/plain": [
       "False"
      ]
     },
     "execution_count": 202,
     "metadata": {},
     "output_type": "execute_result"
    }
   ],
   "source": [
    "indexIVFFlat.is_trained"
   ]
  },
  {
   "cell_type": "code",
   "execution_count": 203,
   "id": "465a20b3-b7b5-41d3-9b93-f18862dc9c01",
   "metadata": {},
   "outputs": [
    {
     "name": "stdout",
     "output_type": "stream",
     "text": [
      "CPU times: user 3 µs, sys: 1e+03 ns, total: 4 µs\n",
      "Wall time: 6.68 µs\n"
     ]
    },
    {
     "data": {
      "text/plain": [
       "0"
      ]
     },
     "execution_count": 203,
     "metadata": {},
     "output_type": "execute_result"
    }
   ],
   "source": [
    "# Preparo (train) las estructuras de datos del índice\n",
    "%time\n",
    "indexIVFFlat.train(vaswani_docs_embeddings)\n",
    "indexIVFFlat.ntotal"
   ]
  },
  {
   "cell_type": "code",
   "execution_count": 204,
   "id": "49a573f0-d502-4813-b9cc-db86b2099326",
   "metadata": {},
   "outputs": [
    {
     "data": {
      "text/plain": [
       "True"
      ]
     },
     "execution_count": 204,
     "metadata": {},
     "output_type": "execute_result"
    }
   ],
   "source": [
    "indexIVFFlat.is_trained"
   ]
  },
  {
   "cell_type": "code",
   "execution_count": 205,
   "id": "94617936-b551-4c44-8459-32558ebdb2f9",
   "metadata": {},
   "outputs": [
    {
     "data": {
      "text/plain": [
       "11429"
      ]
     },
     "execution_count": 205,
     "metadata": {},
     "output_type": "execute_result"
    }
   ],
   "source": [
    "# Agrego los documentos al índice\n",
    "indexIVFFlat.add(vaswani_docs_embeddings)\n",
    "indexIVFFlat.ntotal"
   ]
  },
  {
   "cell_type": "code",
   "execution_count": 224,
   "id": "19a2c126-0619-4359-ac4e-75b2629ad585",
   "metadata": {},
   "outputs": [],
   "source": [
    "faiss.write_index(indexIVFFlat, \"vaswani_faiss_ivfflat.ndx\")"
   ]
  },
  {
   "cell_type": "code",
   "execution_count": 206,
   "id": "42ba3bc3-acda-4d96-8485-b8caed3cbcba",
   "metadata": {},
   "outputs": [],
   "source": [
    "# Ejemplo de recuperación\n",
    "k = 10\n",
    "indexIVFFlat.nprobe = 1 # Ámbito de búsqueda = 1 celda\n",
    "query_vector = np.array([vaswani_query_embeddings[0]])"
   ]
  },
  {
   "cell_type": "code",
   "execution_count": 207,
   "id": "e6ab3f77-2685-44e4-a392-bd1b224118c0",
   "metadata": {},
   "outputs": [
    {
     "name": "stdout",
     "output_type": "stream",
     "text": [
      "CPU times: user 3 µs, sys: 1 µs, total: 4 µs\n",
      "Wall time: 6.68 µs\n"
     ]
    }
   ],
   "source": [
    "%time\n",
    "DIVFFlat, rsIVFFlat = indexIVFFlat.search(query_vector, k)  # Búsqueda"
   ]
  },
  {
   "cell_type": "code",
   "execution_count": 209,
   "id": "77037de2-f692-465c-9903-ca1e6efaf198",
   "metadata": {},
   "outputs": [
    {
     "data": {
      "text/plain": [
       "array([[8275, 4255, 8581, 8481,   57, 3097, 5144, 3435, 8573, 1519]])"
      ]
     },
     "execution_count": 209,
     "metadata": {},
     "output_type": "execute_result"
    }
   ],
   "source": [
    "rsIVFFlat"
   ]
  },
  {
   "cell_type": "code",
   "execution_count": 220,
   "id": "e892ff33-ed29-4042-9e8b-d87c6b38e424",
   "metadata": {},
   "outputs": [
    {
     "data": {
      "text/plain": [
       "(0.2, {4255, 8275})"
      ]
     },
     "execution_count": 220,
     "metadata": {},
     "output_type": "execute_result"
    }
   ],
   "source": [
    "list_intersection(rsFlat, rsIVFFlat)"
   ]
  },
  {
   "cell_type": "code",
   "execution_count": 225,
   "id": "697ae04b-ac6e-4b81-8a6a-d457aefc5f43",
   "metadata": {},
   "outputs": [],
   "source": [
    "# Aumentamos el ámbito de búsqueda a 10 celdas\n",
    "indexIVFFlat.nprobe = 10\n",
    "DIVFFlat, rsIVFFlat = indexIVFFlat.search(query_vector, k)  # Búsqueda"
   ]
  },
  {
   "cell_type": "code",
   "execution_count": 227,
   "id": "359513d2-ccca-410b-88e6-1e1c47b6c950",
   "metadata": {},
   "outputs": [
    {
     "data": {
      "text/plain": [
       "(0.9, {1501, 1896, 1987, 4255, 4816, 4870, 7024, 7125, 8275})"
      ]
     },
     "execution_count": 227,
     "metadata": {},
     "output_type": "execute_result"
    }
   ],
   "source": [
    "list_intersection(rsFlat, rsIVFFlat)"
   ]
  },
  {
   "cell_type": "code",
   "execution_count": null,
   "id": "8ffca18d-88d2-401a-a5a9-8d222533a2ce",
   "metadata": {},
   "outputs": [],
   "source": []
  },
  {
   "cell_type": "code",
   "execution_count": null,
   "id": "0e887d63-38a5-42b7-8492-703baa0b6de0",
   "metadata": {},
   "outputs": [],
   "source": [
    "# Comparación Flat vs IVFlat para todos los queries"
   ]
  },
  {
   "cell_type": "code",
   "execution_count": 245,
   "id": "a034b142-6e90-4ecc-9676-9b04c602339f",
   "metadata": {},
   "outputs": [
    {
     "data": {
      "text/plain": [
       "(93, 512)"
      ]
     },
     "execution_count": 245,
     "metadata": {},
     "output_type": "execute_result"
    }
   ],
   "source": [
    "query_vectors = np.array(vaswani_query_embeddings)  # Todos los queries\n",
    "query_vectors.shape"
   ]
  },
  {
   "cell_type": "code",
   "execution_count": 391,
   "id": "6679d834-cb82-454f-ab8c-da0f7e387694",
   "metadata": {},
   "outputs": [
    {
     "name": "stdout",
     "output_type": "stream",
     "text": [
      "Elapsed time (exhaustivo): 0.05777614699945843 ms\n"
     ]
    }
   ],
   "source": [
    "k = 10\n",
    "#\n",
    "t0 = timeit.default_timer()\n",
    "DFlat, rsFlat = indexFlat.search(query_vectors, k)          # Búsqueda en índice flat (exhaustivo)\n",
    "t1 = timeit.default_timer()\n",
    "#\n",
    "tiempo_exhaustivo = t1-t0\n",
    "print(f\"Elapsed time (exhaustivo): {tiempo_exhaustivo} ms\")"
   ]
  },
  {
   "cell_type": "code",
   "execution_count": 392,
   "id": "e9b1b9ee-4aae-4d39-a755-e92121f1d032",
   "metadata": {},
   "outputs": [
    {
     "name": "stdout",
     "output_type": "stream",
     "text": [
      "Elapsed time (nprobe=10): 0.027390180999645963 ms\n"
     ]
    }
   ],
   "source": [
    "indexIVFFlat.nprobe = 10\n",
    "t0 = timeit.default_timer()\n",
    "DIVFFlat, rsIVFFlat = indexIVFFlat.search(query_vectors, k)  # Búsqueda en índice flat (particionado)\n",
    "t1 = timeit.default_timer()\n",
    "#\n",
    "tiempo_nprobe10 = t1-t0\n",
    "print(f\"Elapsed time (nprobe=10): {tiempo_nprobe10} ms\")"
   ]
  },
  {
   "cell_type": "code",
   "execution_count": 417,
   "id": "2121ecea-6aa4-4b80-840b-92d6c4995608",
   "metadata": {},
   "outputs": [],
   "source": [
    "# Tradeoff tiempo/overlap entre índice flat exhaustivo y particionado\n",
    "search_times    = [tiempo_exhaustivo]\n",
    "search_overlaps = [1]\n",
    "labels = [\"Exhaustivo\"]\n",
    "#\n",
    "for nprobe in [1, 10, 20, 30, 40, 50]:\n",
    "    indexIVFFlat.nprobe = nprobe\n",
    "    t0 = timeit.default_timer()\n",
    "    DIVFFlat, rsIVFFlat = indexIVFFlat.search(query_vectors, k)  # Búsqueda en índice flat (particionado)\n",
    "    t1 = timeit.default_timer()\n",
    "    # Agrego el tiempo y una etiqueta (nprobe)\n",
    "    search_times.append(t1-t0)\n",
    "    labels.append(str(nprobe))\n",
    "    #\n",
    "    # Calculo overlap promedio para todas las consultas\n",
    "    tmp_overlaps = []   \n",
    "    for i, x in enumerate(rsFlat):\n",
    "        rs_i1 = set(rsFlat[i])\n",
    "        rs_i2 = set(rsIVFFlat[i])\n",
    "        tmp_overlaps.append(len(rs_i1.intersection(rs_i2))/len(rs_i1))\n",
    "    search_overlaps.append(np.mean(tmp_overlaps))"
   ]
  },
  {
   "cell_type": "code",
   "execution_count": 418,
   "id": "039dc91f-1930-4f28-8b25-2214d08c1638",
   "metadata": {},
   "outputs": [],
   "source": [
    "#search_times"
   ]
  },
  {
   "cell_type": "code",
   "execution_count": 419,
   "id": "02881569-e567-4252-a3a3-a4ab3f2abb7f",
   "metadata": {},
   "outputs": [],
   "source": [
    "#search_overlaps"
   ]
  },
  {
   "cell_type": "code",
   "execution_count": 420,
   "id": "49966f88-92e7-4b53-b245-c6fff61fbc68",
   "metadata": {},
   "outputs": [
    {
     "data": {
      "image/png": "[encoded data removed]",
      "text/plain": [
       "<Figure size 640x480 with 1 Axes>"
      ]
     },
     "metadata": {},
     "output_type": "display_data"
    }
   ],
   "source": [
    "import matplotlib.pyplot as plt\n",
    "markers = ['o--', 'x--', 'x--','x--','x--', 'x--', 'x--']\n",
    "for i, codec in enumerate(search_overlaps):\n",
    "    plt.plot(search_times[i], search_overlaps[i], markers[i], markersize=8, label=labels[i])\n",
    "#\n",
    "plt.grid()\n",
    "plt.xlabel(\"Tiempo (ms)\")\n",
    "plt.ylabel(\"Overlap (%)\")\n",
    "#\n",
    "plt.legend(loc=(1.05, 0.7))\n",
    "plt.show()"
   ]
  },
  {
   "cell_type": "code",
   "execution_count": null,
   "id": "66bd294d-a968-4627-b0ae-0dee01b76c03",
   "metadata": {},
   "outputs": [],
   "source": []
  },
  {
   "cell_type": "code",
   "execution_count": null,
   "id": "1d29f0af-81aa-47ae-9a99-58362767b02b",
   "metadata": {},
   "outputs": [],
   "source": []
  },
  {
   "cell_type": "code",
   "execution_count": null,
   "id": "041b83c2-880f-45c4-a929-58fdf2e28caf",
   "metadata": {},
   "outputs": [],
   "source": []
  },
  {
   "cell_type": "code",
   "execution_count": null,
   "id": "ef76ed67-5f1a-41c6-831a-62f02509f413",
   "metadata": {},
   "outputs": [],
   "source": []
  },
  {
   "cell_type": "code",
   "execution_count": null,
   "id": "4529505e-f7bc-42c9-a55c-96dd688845d8",
   "metadata": {},
   "outputs": [],
   "source": []
  },
  {
   "cell_type": "code",
   "execution_count": null,
   "id": "ba79172b-c23d-4b62-b2d0-6a1b8175aae3",
   "metadata": {},
   "outputs": [],
   "source": [
    "# De acá para abajo pasa a la notebook de Esteban"
   ]
  },
  {
   "cell_type": "code",
   "execution_count": null,
   "id": "5da5e4c4-784e-4000-be28-c24ff8ccd609",
   "metadata": {},
   "outputs": [],
   "source": []
  },
  {
   "cell_type": "markdown",
   "id": "ba67be2d-846d-4f0b-9c2b-7e021b3a843c",
   "metadata": {},
   "source": [
    "Prueba 3 - IVF Flat Index con Product Quantization\n",
    "Recordar: En este tipo de índice se aplica Product Quantization para reducir (comprimir) los vectores. Luego se ejecuta ANN."
   ]
  },
  {
   "cell_type": "code",
   "execution_count": null,
   "id": "568562dc-6b75-49e7-98a2-e5b0272c30a2",
   "metadata": {},
   "outputs": [],
   "source": [
    "m = 8  # number of centroid IDs in final compressed vectors\n",
    "bits = 8 # number of bits in each centroid\n",
    "\n",
    "quantizer = faiss.IndexFlatL2(d)  # we keep the same L2 distance flat index\n",
    "indexIVFPQ = faiss.IndexIVFPQ(quantizer, d, nlist, m, bits) "
   ]
  },
  {
   "cell_type": "code",
   "execution_count": 33,
   "id": "d836a57c-5383-403a-916f-9e5f21a47cee",
   "metadata": {},
   "outputs": [
    {
     "data": {
      "text/plain": [
       "False"
      ]
     },
     "execution_count": 33,
     "metadata": {},
     "output_type": "execute_result"
    }
   ],
   "source": [
    "indexIVFPQ.is_trained"
   ]
  },
  {
   "cell_type": "code",
   "execution_count": 34,
   "id": "f24a48a7-38a3-4347-abf0-6592908a10d0",
   "metadata": {},
   "outputs": [
    {
     "name": "stdout",
     "output_type": "stream",
     "text": [
      "CPU times: user 4 µs, sys: 0 ns, total: 4 µs\n",
      "Wall time: 7.15 µs\n"
     ]
    },
    {
     "data": {
      "text/plain": [
       "0"
      ]
     },
     "execution_count": 34,
     "metadata": {},
     "output_type": "execute_result"
    }
   ],
   "source": [
    "# Preparo (train) las estructuras de datos del índice\n",
    "%time\n",
    "indexIVFPQ.train(vaswani_docs_embeddings)\n",
    "indexIVFPQ.ntotal"
   ]
  },
  {
   "cell_type": "code",
   "execution_count": 35,
   "id": "2d8681ff-a8d7-4cf5-98e4-c8d686b166db",
   "metadata": {},
   "outputs": [
    {
     "data": {
      "text/plain": [
       "11429"
      ]
     },
     "execution_count": 35,
     "metadata": {},
     "output_type": "execute_result"
    }
   ],
   "source": [
    "# Agrego los documentos al índice\n",
    "indexIVFPQ.add(vaswani_docs_embeddings)\n",
    "indexIVFPQ.ntotal"
   ]
  },
  {
   "cell_type": "code",
   "execution_count": 36,
   "id": "b8e61c2b-1149-438f-8e0a-2192a2d6963f",
   "metadata": {},
   "outputs": [],
   "source": [
    "# Ejemplo de recuperación\n",
    "k = 5\n",
    "query_vector = np.array([vaswani_query_embeddings[0]])"
   ]
  },
  {
   "cell_type": "code",
   "execution_count": 37,
   "id": "4abe051b-afb8-4d6f-bae1-fe93935e6bcc",
   "metadata": {},
   "outputs": [
    {
     "name": "stdout",
     "output_type": "stream",
     "text": [
      "CPU times: user 3 µs, sys: 0 ns, total: 3 µs\n",
      "Wall time: 7.63 µs\n"
     ]
    }
   ],
   "source": [
    "%time\n",
    "DIVFPQ, rsIVFPQ = indexIVFPQ.search(query_vector, k)  # Búsqueda"
   ]
  },
  {
   "cell_type": "code",
   "execution_count": 38,
   "id": "65b582ba-356b-412d-9896-48b9b2480eda",
   "metadata": {},
   "outputs": [
    {
     "data": {
      "text/plain": [
       "array([[1519, 8275, 3326, 4255, 8481]])"
      ]
     },
     "execution_count": 38,
     "metadata": {},
     "output_type": "execute_result"
    }
   ],
   "source": [
    "rsIVFPQ"
   ]
  },
  {
   "cell_type": "code",
   "execution_count": 39,
   "id": "a49108e6-5983-4773-8b55-7f3a49ad4d74",
   "metadata": {},
   "outputs": [
    {
     "name": "stdout",
     "output_type": "stream",
     "text": [
      "CPU times: user 3 µs, sys: 1 µs, total: 4 µs\n",
      "Wall time: 7.39 µs\n"
     ]
    }
   ],
   "source": [
    "indexIVFPQ.nprobe = 10\n",
    "%time\n",
    "DIVFPQ, rsIVFPQ = indexIVFPQ.search(query_vector, k)  # Búsqueda"
   ]
  },
  {
   "cell_type": "code",
   "execution_count": 40,
   "id": "2264f4a7-0eb8-4a14-963a-871c1f243acc",
   "metadata": {},
   "outputs": [
    {
     "data": {
      "text/plain": [
       "array([[1501, 7125, 4249, 1519, 9829]])"
      ]
     },
     "execution_count": 40,
     "metadata": {},
     "output_type": "execute_result"
    }
   ],
   "source": [
    "rsIVFPQ"
   ]
  },
  {
   "cell_type": "code",
   "execution_count": 41,
   "id": "e326716b-da00-4fa5-bc11-045ccb500ac8",
   "metadata": {},
   "outputs": [],
   "source": [
    "faiss.write_index(indexIVFPQ, \"vaswani_faiss_ivfpq.ndx\")"
   ]
  },
  {
   "cell_type": "code",
   "execution_count": null,
   "id": "e7dfd37b-3704-4f89-be2b-bb6d0ff33ccf",
   "metadata": {},
   "outputs": [],
   "source": []
  },
  {
   "cell_type": "markdown",
   "id": "31862a61-539c-4e2a-8592-8625f812862d",
   "metadata": {},
   "source": [
    "### Tarea \n",
    "**Ejecutar todo el set de consultas y calcular el solapamiento promedio de las listas de \n",
    "resultados para nprobe = [1 .. 10]**"
   ]
  },
  {
   "cell_type": "code",
   "execution_count": null,
   "id": "928e7702-ae71-4066-9dfc-ee8af7fefdb5",
   "metadata": {},
   "outputs": [],
   "source": []
  },
  {
   "cell_type": "code",
   "execution_count": null,
   "id": "e506b2a6-8c1e-49f5-8514-9d2e9cc9e4b2",
   "metadata": {},
   "outputs": [],
   "source": []
  }
 ],
 "metadata": {
  "kernelspec": {
   "display_name": "Python 3 (ipykernel)",
   "language": "python",
   "name": "python3"
  },
  "language_info": {
   "codemirror_mode": {
    "name": "ipython",
    "version": 3
   },
   "file_extension": ".py",
   "mimetype": "text/x-python",
   "name": "python",
   "nbconvert_exporter": "python",
   "pygments_lexer": "ipython3",
   "version": "3.11.4"
  }
 },
 "nbformat": 4,
 "nbformat_minor": 5
}
